{
 "cells": [
  {
   "cell_type": "markdown",
   "id": "d05adbb4",
   "metadata": {},
   "source": [
    "# Laboratorio 4 - Parte 2"
   ]
  },
  {
   "cell_type": "code",
   "execution_count": 1,
   "id": "35e8946d",
   "metadata": {},
   "outputs": [],
   "source": [
    "import pefile\n",
    "import os\n",
    "import re\n",
    "import magic\n",
    "import pandas as pd\n",
    "import numpy as np\n",
    "import matplotlib.pyplot as plt"
   ]
  },
  {
   "cell_type": "code",
   "execution_count": 2,
   "id": "135d5af2",
   "metadata": {},
   "outputs": [],
   "source": [
    "df = pd.read_csv(\"VirusSample.csv\")"
   ]
  },
  {
   "cell_type": "markdown",
   "id": "2876fce7",
   "metadata": {},
   "source": [
    "## Exploracion de datos"
   ]
  },
  {
   "cell_type": "code",
   "execution_count": 3,
   "id": "bb35f55e",
   "metadata": {},
   "outputs": [
    {
     "name": "stdout",
     "output_type": "stream",
     "text": [
      "<class 'pandas.core.frame.DataFrame'>\n",
      "RangeIndex: 9795 entries, 0 to 9794\n",
      "Data columns (total 3 columns):\n",
      " #   Column  Non-Null Count  Dtype \n",
      "---  ------  --------------  ----- \n",
      " 0   file    9795 non-null   object\n",
      " 1   api     9795 non-null   object\n",
      " 2   class   9795 non-null   object\n",
      "dtypes: object(3)\n",
      "memory usage: 229.7+ KB\n"
     ]
    }
   ],
   "source": [
    "df.info()"
   ]
  },
  {
   "cell_type": "code",
   "execution_count": 4,
   "id": "db53b6ce",
   "metadata": {},
   "outputs": [
    {
     "data": {
      "text/html": [
       "<div>\n",
       "<style scoped>\n",
       "    .dataframe tbody tr th:only-of-type {\n",
       "        vertical-align: middle;\n",
       "    }\n",
       "\n",
       "    .dataframe tbody tr th {\n",
       "        vertical-align: top;\n",
       "    }\n",
       "\n",
       "    .dataframe thead th {\n",
       "        text-align: right;\n",
       "    }\n",
       "</style>\n",
       "<table border=\"1\" class=\"dataframe\">\n",
       "  <thead>\n",
       "    <tr style=\"text-align: right;\">\n",
       "      <th></th>\n",
       "      <th>file</th>\n",
       "      <th>api</th>\n",
       "      <th>class</th>\n",
       "    </tr>\n",
       "  </thead>\n",
       "  <tbody>\n",
       "    <tr>\n",
       "      <th>0</th>\n",
       "      <td>7ff49f2f0912352416b05c010f35f402cc79feed</td>\n",
       "      <td>IntersectRect,GetCurrentProcess,GetVersion</td>\n",
       "      <td>Virus</td>\n",
       "    </tr>\n",
       "    <tr>\n",
       "      <th>1</th>\n",
       "      <td>50cc6c99ec285d0db45dde07d8fdc18d9098c5b6</td>\n",
       "      <td>GetCaretBlinkTime,CountClipboardFormats,GetCon...</td>\n",
       "      <td>Virus</td>\n",
       "    </tr>\n",
       "    <tr>\n",
       "      <th>2</th>\n",
       "      <td>f77c6bd4aebacd1a01d02e0cb20642ebf2d32929</td>\n",
       "      <td>VarR8Pow,GetClipboardViewer,GetInputDesktop,Ge...</td>\n",
       "      <td>Virus</td>\n",
       "    </tr>\n",
       "    <tr>\n",
       "      <th>3</th>\n",
       "      <td>349c367c5b88fbb6cafae5d7109588d7250e16b5</td>\n",
       "      <td>SetTraceCallback,CopyAcceleratorTableW,GetProc...</td>\n",
       "      <td>Virus</td>\n",
       "    </tr>\n",
       "    <tr>\n",
       "      <th>4</th>\n",
       "      <td>021f4aa86b520e1d606ab26699c35546bcd00c27</td>\n",
       "      <td>SHLoadNonloadedIconOverlayIdentifiers,VarUI8Fr...</td>\n",
       "      <td>Virus</td>\n",
       "    </tr>\n",
       "  </tbody>\n",
       "</table>\n",
       "</div>"
      ],
      "text/plain": [
       "                                       file  \\\n",
       "0  7ff49f2f0912352416b05c010f35f402cc79feed   \n",
       "1  50cc6c99ec285d0db45dde07d8fdc18d9098c5b6   \n",
       "2  f77c6bd4aebacd1a01d02e0cb20642ebf2d32929   \n",
       "3  349c367c5b88fbb6cafae5d7109588d7250e16b5   \n",
       "4  021f4aa86b520e1d606ab26699c35546bcd00c27   \n",
       "\n",
       "                                                 api  class  \n",
       "0         IntersectRect,GetCurrentProcess,GetVersion  Virus  \n",
       "1  GetCaretBlinkTime,CountClipboardFormats,GetCon...  Virus  \n",
       "2  VarR8Pow,GetClipboardViewer,GetInputDesktop,Ge...  Virus  \n",
       "3  SetTraceCallback,CopyAcceleratorTableW,GetProc...  Virus  \n",
       "4  SHLoadNonloadedIconOverlayIdentifiers,VarUI8Fr...  Virus  "
      ]
     },
     "execution_count": 4,
     "metadata": {},
     "output_type": "execute_result"
    }
   ],
   "source": [
    "df.head()"
   ]
  },
  {
   "cell_type": "code",
   "execution_count": 5,
   "id": "f95f8414",
   "metadata": {},
   "outputs": [
    {
     "data": {
      "text/plain": [
       "Trojan        6153\n",
       "Virus         2367\n",
       "Backdoor       447\n",
       "Worms          441\n",
       "Adware         222\n",
       "Agent          102\n",
       "Downloader      31\n",
       "Spyware         11\n",
       "Ransomware      10\n",
       "Riskware         4\n",
       "Dropper          4\n",
       "Crypt            2\n",
       "Keylogger        1\n",
       "Name: class, dtype: int64"
      ]
     },
     "execution_count": 5,
     "metadata": {},
     "output_type": "execute_result"
    }
   ],
   "source": [
    "#Tokenizar las llamadas del api\n",
    "#Bigramas o Trigramas\n",
    "\n",
    "df[\"class\"].value_counts()"
   ]
  },
  {
   "cell_type": "markdown",
   "id": "c97c36d6",
   "metadata": {},
   "source": [
    "## Preprocesamiento de datos"
   ]
  },
  {
   "cell_type": "markdown",
   "id": "dabd6b47",
   "metadata": {},
   "source": [
    "### Eliminacion de datos obsoletos"
   ]
  },
  {
   "cell_type": "code",
   "execution_count": 6,
   "id": "b17efc21",
   "metadata": {},
   "outputs": [],
   "source": [
    "df.drop(df[df[\"class\"] == \"Keylogger\"].index, inplace=True)\n",
    "df.drop(df[df[\"class\"] == \"Crypt\"].index, inplace=True)\n",
    "df.drop(df[df[\"class\"] == \"Dropper\"].index, inplace=True)\n",
    "df.drop(df[df[\"class\"] == \"Riskware\"].index, inplace=True)\n",
    "df.drop(df[df[\"class\"] == \"Ransomware\"].index, inplace=True)\n",
    "df.drop(df[df[\"class\"] == \"Spyware\"].index, inplace=True)\n",
    "df.drop(df[df[\"class\"] == \"Downloader\"].index, inplace=True)"
   ]
  },
  {
   "cell_type": "code",
   "execution_count": 7,
   "id": "0477b7a0",
   "metadata": {},
   "outputs": [
    {
     "data": {
      "text/plain": [
       "Trojan      6153\n",
       "Virus       2367\n",
       "Backdoor     447\n",
       "Worms        441\n",
       "Adware       222\n",
       "Agent        102\n",
       "Name: class, dtype: int64"
      ]
     },
     "execution_count": 7,
     "metadata": {},
     "output_type": "execute_result"
    }
   ],
   "source": [
    "df[\"class\"].value_counts()"
   ]
  },
  {
   "cell_type": "markdown",
   "id": "92a28494",
   "metadata": {},
   "source": [
    "### Label encoder para dar valor hacia las llamadas del API"
   ]
  },
  {
   "cell_type": "code",
   "execution_count": 8,
   "id": "98dfa907",
   "metadata": {},
   "outputs": [],
   "source": [
    "from sklearn.preprocessing import LabelEncoder\n",
    "labelEncoder = LabelEncoder()\n",
    "df[\"class\"]= labelEncoder.fit_transform(df[\"class\"])"
   ]
  },
  {
   "cell_type": "code",
   "execution_count": 9,
   "id": "f80cc46d",
   "metadata": {},
   "outputs": [],
   "source": [
    "#Elimando ya las clases que no iban a afectar al modelo, se hace un label encoder para obtener datos\n",
    "target = df[\"class\"]\n",
    "df.drop(columns=[\"class\"], inplace=True)\n",
    "feautures = df"
   ]
  },
  {
   "cell_type": "code",
   "execution_count": 11,
   "id": "e968ea7f",
   "metadata": {},
   "outputs": [
    {
     "data": {
      "text/plain": [
       "array([[4887, 1240],\n",
       "       [3104,  599],\n",
       "       [9414, 2501],\n",
       "       ...,\n",
       "       [8390, 2708],\n",
       "       [7864, 1209],\n",
       "       [7221, 2299]])"
      ]
     },
     "execution_count": 11,
     "metadata": {},
     "output_type": "execute_result"
    }
   ],
   "source": [
    "features = pd.DataFrame(df, dtype=str)\n",
    "features.apply(labelEncoder.fit_transform)\n",
    "\n",
    "feautures = feautures.apply(labelEncoder.fit_transform).values[:,:]\n",
    "feautures"
   ]
  },
  {
   "cell_type": "markdown",
   "id": "74d7b526",
   "metadata": {},
   "source": [
    "### Separando datos para los modelos"
   ]
  },
  {
   "cell_type": "code",
   "execution_count": 14,
   "id": "7c92e5d9",
   "metadata": {},
   "outputs": [],
   "source": [
    "from sklearn.model_selection import train_test_split\n",
    "x_train, x_test, y_train, y_test = train_test_split(feautures, target, test_size=0.3, random_state=42)"
   ]
  },
  {
   "cell_type": "code",
   "execution_count": 15,
   "id": "3becd4ab",
   "metadata": {},
   "outputs": [
    {
     "name": "stdout",
     "output_type": "stream",
     "text": [
      "(6812, 2)\n",
      "(2920, 2)\n",
      "(6812,)\n",
      "(2920,)\n"
     ]
    }
   ],
   "source": [
    "print(x_train.shape)\n",
    "print(x_test.shape)\n",
    "print(y_train.shape)\n",
    "print(y_test.shape)"
   ]
  },
  {
   "cell_type": "code",
   "execution_count": 39,
   "id": "bf2ae28d",
   "metadata": {},
   "outputs": [
    {
     "data": {
      "text/plain": [
       "3    6153\n",
       "4    2367\n",
       "2     447\n",
       "5     441\n",
       "0     222\n",
       "1     102\n",
       "Name: class, dtype: int64"
      ]
     },
     "execution_count": 39,
     "metadata": {},
     "output_type": "execute_result"
    }
   ],
   "source": [
    "target.value_counts()"
   ]
  },
  {
   "cell_type": "markdown",
   "id": "ee7405f1",
   "metadata": {},
   "source": [
    "Observamos que la jerarquia que creo el label encoder fue esta manera:\n",
    "- 0 --> Adware\n",
    "- 1 --> Agent\n",
    "- 2 --> Backdoor\n",
    "- 3 --> Trojan\n",
    "- 4 --> Virus\n",
    "- 5 --> Worms"
   ]
  },
  {
   "cell_type": "markdown",
   "id": "b5345602",
   "metadata": {},
   "source": [
    "### Escalando datos necesarios "
   ]
  },
  {
   "cell_type": "code",
   "execution_count": 17,
   "id": "dac26496",
   "metadata": {},
   "outputs": [
    {
     "name": "stdout",
     "output_type": "stream",
     "text": [
      "MinMaxScaler()\n"
     ]
    }
   ],
   "source": [
    "from sklearn.preprocessing import MinMaxScaler\n",
    "escalatedData = x_train  #Features (llamadas del api)\n",
    "scaler = MinMaxScaler()\n",
    "print(scaler.fit(escalatedData))"
   ]
  },
  {
   "cell_type": "code",
   "execution_count": 18,
   "id": "c96fb259",
   "metadata": {},
   "outputs": [
    {
     "name": "stdout",
     "output_type": "stream",
     "text": [
      "[[0.10102775 0.33616876]\n",
      " [0.9684481  0.4954066 ]\n",
      " [0.63556012 0.15651582]\n",
      " ...\n",
      " [0.23535457 0.44538959]\n",
      " [0.96495375 0.49880912]\n",
      " [0.65765673 0.31201089]]\n"
     ]
    }
   ],
   "source": [
    "print(scaler.transform(escalatedData))"
   ]
  },
  {
   "cell_type": "code",
   "execution_count": 19,
   "id": "c4c9e2d9",
   "metadata": {},
   "outputs": [],
   "source": [
    "x_train = scaler.transform(escalatedData)\n",
    "x_test = scaler.transform(x_test)"
   ]
  },
  {
   "cell_type": "markdown",
   "id": "94b37055",
   "metadata": {},
   "source": [
    "## Modelos de clasificacion"
   ]
  },
  {
   "cell_type": "code",
   "execution_count": 35,
   "id": "c72c8817",
   "metadata": {},
   "outputs": [],
   "source": [
    "from sklearn.model_selection import cross_val_score\n",
    "from sklearn import metrics, model_selection, tree\n",
    "from sklearn.metrics import classification_report\n",
    "from sklearn.naive_bayes import GaussianNB\n",
    "from sklearn.model_selection import KFold"
   ]
  },
  {
   "cell_type": "markdown",
   "id": "cf9e3a83",
   "metadata": {},
   "source": [
    "### Naive Bayes"
   ]
  },
  {
   "cell_type": "code",
   "execution_count": 60,
   "id": "c13999f1",
   "metadata": {},
   "outputs": [
    {
     "data": {
      "text/plain": [
       "GaussianNB()"
      ]
     },
     "execution_count": 60,
     "metadata": {},
     "output_type": "execute_result"
    }
   ],
   "source": [
    "bayes = GaussianNB()\n",
    "bayes.fit(x_train, y_train)"
   ]
  },
  {
   "cell_type": "code",
   "execution_count": 61,
   "id": "ac9a9510",
   "metadata": {},
   "outputs": [
    {
     "name": "stdout",
     "output_type": "stream",
     "text": [
      "Accuracy of traning: 0.608191426893717\n",
      "Accuracy of testing: 0.6102739726027397\n"
     ]
    }
   ],
   "source": [
    "accuracy_training = bayes.score(x_train,y_train)\n",
    "accuracy_test = bayes.score(x_test,y_test)\n",
    "\n",
    "print(\"Accuracy of traning: {0}\".format(accuracy_training) )\n",
    "print(\"Accuracy of testing: {0}\".format(accuracy_test) )"
   ]
  },
  {
   "cell_type": "markdown",
   "id": "46a8db5e",
   "metadata": {},
   "source": [
    "- 0 --> Adware\n",
    "- 1 --> Agent\n",
    "- 2 --> Backdoor\n",
    "- 3 --> Trojan\n",
    "- 4 --> Virus\n",
    "- 5 --> Worms"
   ]
  },
  {
   "cell_type": "code",
   "execution_count": 62,
   "id": "27fc21b3",
   "metadata": {},
   "outputs": [
    {
     "name": "stdout",
     "output_type": "stream",
     "text": [
      "              precision    recall  f1-score   support\n",
      "\n",
      "           0       0.00      0.00      0.00        58\n",
      "           1       0.00      0.00      0.00        30\n",
      "           2       0.00      0.00      0.00       149\n",
      "           3       0.63      0.95      0.76      1849\n",
      "           4       0.16      0.03      0.05       710\n",
      "           5       0.00      0.00      0.00       124\n",
      "\n",
      "    accuracy                           0.61      2920\n",
      "   macro avg       0.13      0.16      0.13      2920\n",
      "weighted avg       0.44      0.61      0.49      2920\n",
      "\n"
     ]
    },
    {
     "name": "stderr",
     "output_type": "stream",
     "text": [
      "/home/mario/.local/lib/python3.8/site-packages/sklearn/metrics/_classification.py:1318: UndefinedMetricWarning: Precision and F-score are ill-defined and being set to 0.0 in labels with no predicted samples. Use `zero_division` parameter to control this behavior.\n",
      "  _warn_prf(average, modifier, msg_start, len(result))\n",
      "/home/mario/.local/lib/python3.8/site-packages/sklearn/metrics/_classification.py:1318: UndefinedMetricWarning: Precision and F-score are ill-defined and being set to 0.0 in labels with no predicted samples. Use `zero_division` parameter to control this behavior.\n",
      "  _warn_prf(average, modifier, msg_start, len(result))\n",
      "/home/mario/.local/lib/python3.8/site-packages/sklearn/metrics/_classification.py:1318: UndefinedMetricWarning: Precision and F-score are ill-defined and being set to 0.0 in labels with no predicted samples. Use `zero_division` parameter to control this behavior.\n",
      "  _warn_prf(average, modifier, msg_start, len(result))\n"
     ]
    }
   ],
   "source": [
    "y_predict = bayes.predict(x_test)\n",
    "print(classification_report(y_test,y_predict))"
   ]
  },
  {
   "cell_type": "markdown",
   "id": "23438177",
   "metadata": {},
   "source": [
    "#### Cross Validation"
   ]
  },
  {
   "cell_type": "code",
   "execution_count": 63,
   "id": "67adb7ca",
   "metadata": {},
   "outputs": [
    {
     "name": "stdout",
     "output_type": "stream",
     "text": [
      "[0.58098592 0.60387324 0.61795775 0.60387324 0.63028169 0.59683099\n",
      " 0.60387324 0.63204225 0.5978836  0.61022928 0.61022928 0.62786596]\n"
     ]
    }
   ],
   "source": [
    "bayes_cv_score = cross_val_score(estimator=bayes, X=x_train, y=y_train, cv=12, n_jobs=-1)\n",
    "print(bayes_cv_score)"
   ]
  },
  {
   "cell_type": "markdown",
   "id": "6c72faaa",
   "metadata": {},
   "source": [
    "#### Kfolds"
   ]
  },
  {
   "cell_type": "code",
   "execution_count": 64,
   "id": "79ba4e7d",
   "metadata": {},
   "outputs": [
    {
     "data": {
      "text/plain": [
       "array([0.60997067, 0.60117302, 0.62114537, 0.6020558 , 0.62848752,\n",
       "       0.62114537, 0.61380323, 0.59324523, 0.6123348 , 0.6123348 ])"
      ]
     },
     "execution_count": 64,
     "metadata": {},
     "output_type": "execute_result"
    }
   ],
   "source": [
    "cv = KFold(n_splits=10, random_state=1, shuffle=True)\n",
    "scores = cross_val_score(bayes,x_train,y_train, scoring='accuracy', cv=cv, n_jobs=-1)\n",
    "scores"
   ]
  },
  {
   "cell_type": "code",
   "execution_count": 65,
   "id": "882351de",
   "metadata": {},
   "outputs": [
    {
     "name": "stdout",
     "output_type": "stream",
     "text": [
      "Accuracy: 0.6115695824236396 \n"
     ]
    }
   ],
   "source": [
    "print(\"Accuracy: {0} \".format(np.mean(scores)))"
   ]
  },
  {
   "cell_type": "markdown",
   "id": "62213ed9",
   "metadata": {},
   "source": [
    "Podemos observar de que nuestro modelo contiene un accuracy promedio de 0.612. Ademas, podemos observar de que el trojano fue el dato con mayor precision, recall y fi-score, dejando atras los demas debido a que sus metricas se quedaban en 0 menor de 20%"
   ]
  },
  {
   "cell_type": "markdown",
   "id": "e660c427",
   "metadata": {},
   "source": [
    "### Decision Tree"
   ]
  },
  {
   "cell_type": "code",
   "execution_count": 49,
   "id": "64ea59ae",
   "metadata": {},
   "outputs": [
    {
     "data": {
      "text/plain": [
       "DecisionTreeClassifier()"
      ]
     },
     "execution_count": 49,
     "metadata": {},
     "output_type": "execute_result"
    }
   ],
   "source": [
    "clf = tree.DecisionTreeClassifier()\n",
    "clf.fit(x_train,y_train)"
   ]
  },
  {
   "cell_type": "code",
   "execution_count": 50,
   "id": "a157d89d",
   "metadata": {},
   "outputs": [
    {
     "name": "stdout",
     "output_type": "stream",
     "text": [
      "Accuracy of traning: 1.0\n",
      "Accuracy of testing: 0.8780821917808219\n"
     ]
    }
   ],
   "source": [
    "accuracy_training = clf.score(x_train,y_train)\n",
    "accuracy_test = clf.score(x_test,y_test)\n",
    "\n",
    "print(\"Accuracy of traning: {0}\".format(accuracy_training) )\n",
    "print(\"Accuracy of testing: {0}\".format(accuracy_test) )"
   ]
  },
  {
   "cell_type": "markdown",
   "id": "d7cffe5d",
   "metadata": {},
   "source": [
    "- 0 --> Adware\n",
    "- 1 --> Agent\n",
    "- 2 --> Backdoor\n",
    "- 3 --> Trojan\n",
    "- 4 --> Virus\n",
    "- 5 --> Worms"
   ]
  },
  {
   "cell_type": "code",
   "execution_count": 51,
   "id": "30adeec5",
   "metadata": {},
   "outputs": [
    {
     "name": "stdout",
     "output_type": "stream",
     "text": [
      "              precision    recall  f1-score   support\n",
      "\n",
      "           0       0.58      0.62      0.60        58\n",
      "           1       0.22      0.17      0.19        30\n",
      "           2       0.89      0.88      0.88       149\n",
      "           3       0.91      0.92      0.91      1849\n",
      "           4       0.89      0.86      0.87       710\n",
      "           5       0.65      0.69      0.67       124\n",
      "\n",
      "    accuracy                           0.88      2920\n",
      "   macro avg       0.69      0.69      0.69      2920\n",
      "weighted avg       0.88      0.88      0.88      2920\n",
      "\n"
     ]
    }
   ],
   "source": [
    "y_predict = clf.predict(x_test)\n",
    "print(classification_report(y_test,y_predict))"
   ]
  },
  {
   "cell_type": "markdown",
   "id": "af575528",
   "metadata": {},
   "source": [
    "#### Cross Validation"
   ]
  },
  {
   "cell_type": "code",
   "execution_count": 52,
   "id": "d72d2330",
   "metadata": {},
   "outputs": [
    {
     "name": "stdout",
     "output_type": "stream",
     "text": [
      "[0.58098592 0.60387324 0.61795775 0.60387324 0.63028169 0.59683099\n",
      " 0.60387324 0.63204225 0.5978836  0.61022928 0.61022928 0.62786596]\n"
     ]
    }
   ],
   "source": [
    "tree_cv_score = cross_val_score(estimator=bayes, X=x_train, y=y_train, cv=12, n_jobs=-1)\n",
    "print(tree_cv_score)"
   ]
  },
  {
   "cell_type": "markdown",
   "id": "c9d14f65",
   "metadata": {},
   "source": [
    "#### Kfolds"
   ]
  },
  {
   "cell_type": "code",
   "execution_count": 53,
   "id": "5f9aae4e",
   "metadata": {},
   "outputs": [
    {
     "data": {
      "text/plain": [
       "array([0.88856305, 0.87536657, 0.88105727, 0.88839941, 0.87812041,\n",
       "       0.88399413, 0.88105727, 0.87518355, 0.8928047 , 0.85903084])"
      ]
     },
     "execution_count": 53,
     "metadata": {},
     "output_type": "execute_result"
    }
   ],
   "source": [
    "cv = KFold(n_splits=10, random_state=1, shuffle=True)\n",
    "scores = cross_val_score(clf,x_train,y_train, scoring='accuracy', cv=cv, n_jobs=-1)\n",
    "scores"
   ]
  },
  {
   "cell_type": "code",
   "execution_count": 57,
   "id": "208925ae",
   "metadata": {},
   "outputs": [
    {
     "name": "stdout",
     "output_type": "stream",
     "text": [
      "Accuracy: 0.8803577195860839\n"
     ]
    }
   ],
   "source": [
    "print(\"Accuracy: {0}\".format(np.mean(scores)))"
   ]
  },
  {
   "cell_type": "markdown",
   "id": "a649a2b8",
   "metadata": {},
   "source": [
    "Podemos observar de que nuestro segundo modele contiene un accuracy promedio de 0.88. Ademas, podemos observar de que el trojano nuevamente fue el dato con mayor precision, recall y fi-score. Una clave diferencia del primer modelo es que tenemos metricas altas para los demas malware, dandole mayor valor a utilizar un decision tree en vez de Naive Bayes"
   ]
  },
  {
   "cell_type": "markdown",
   "id": "228c2c42",
   "metadata": {},
   "source": [
    "## Conclusiones"
   ]
  },
  {
   "cell_type": "markdown",
   "id": "3c06c01b",
   "metadata": {},
   "source": [
    "#### ¿Se lograron obtener mejores métricas que las obtenidas en el artículo para la clasificación de malware?"
   ]
  },
  {
   "cell_type": "markdown",
   "id": "0adc4b32",
   "metadata": {},
   "source": [
    "En este caso, observamos que ambos modelos que escogimos, siendo Decision tree y Naive Bayes, no lograron obtener un resultado mas alto que el articulo. Tomando en cuenta que el label encoder logro organizar las clasificaciones de nuestro target, la escalacion vario los valores de manera que impactara la precision de los modelos. Otra manera que se pudiera haber aumentado las metricas es haber utilizado otra separacion de datos para un valid set, con el fin de realizar pruebas y revisar nuevamente el preprocesamiento."
   ]
  }
 ],
 "metadata": {
  "kernelspec": {
   "display_name": "Python 3 (ipykernel)",
   "language": "python",
   "name": "python3"
  },
  "language_info": {
   "codemirror_mode": {
    "name": "ipython",
    "version": 3
   },
   "file_extension": ".py",
   "mimetype": "text/x-python",
   "name": "python",
   "nbconvert_exporter": "python",
   "pygments_lexer": "ipython3",
   "version": "3.8.10"
  }
 },
 "nbformat": 4,
 "nbformat_minor": 5
}
